{
 "cells": [
  {
   "cell_type": "markdown",
   "metadata": {},
   "source": [
    "### Importing Dependencies"
   ]
  },
  {
   "cell_type": "code",
   "execution_count": null,
   "metadata": {},
   "outputs": [],
   "source": [
    "import numpy as np\n",
    "import pandas as pd\n",
    "from keras.models import Sequential\n",
    "from keras.layers import Dense\n",
    "from keras.layers import Dropout\n",
    "from keras.layers import LSTM\n",
    "from keras.layers import RNN\n",
    "from keras.utils import np_utils\n",
    "from keras.callbacks import ModelCheckpoint"
   ]
  },
  {
   "cell_type": "markdown",
   "metadata": {},
   "source": [
    "### Data pre-processing"
   ]
  },
  {
   "cell_type": "code",
   "execution_count": 5,
   "metadata": {},
   "outputs": [
    {
     "name": "stdout",
     "output_type": "stream",
     "text": [
      "75272\n"
     ]
    }
   ],
   "source": [
    "text = (open(\"stories.txt\").read()).lower()\n",
    "char_list = sorted(list(set(text)))\n",
    "n_ch = {n:ch for n, ch in enumerate(char_list)}\n",
    "ch_n = {ch:n for n, ch in enumerate(char_list)}\n",
    "\n",
    "length = len(text)\n",
    "seq_num = 100\n",
    "x_train = []\n",
    "y_train = []\n",
    "for i in range(0, length-seq_num, 1):\n",
    "    seq = text[i:i + seq_num]\n",
    "    target =text[i + seq_num]\n",
    "    x_train.append([ch_n[ch] for ch in seq])\n",
    "    y_train.append(ch_n[target])\n",
    "X = np.reshape(x_train, (len(x_train), seq_num, 1))\n",
    "X = X / float(len(char_list))\n",
    "Y = np_utils.to_categorical(y_train)"
   ]
  },
  {
   "cell_type": "markdown",
   "metadata": {},
   "source": [
    "### Training"
   ]
  },
  {
   "cell_type": "code",
   "execution_count": 3,
   "metadata": {},
   "outputs": [],
   "source": [
    "model = Sequential()\n",
    "model.add(LSTM(400, input_shape=(X.shape[1], X.shape[2]), return_sequences=True))\n",
    "model.add(Dropout(0.2))\n",
    "model.add(LSTM(400))\n",
    "model.add(Dropout(0.2))\n",
    "model.add(Dense(Y.shape[1], activation='softmax'))\n",
    "model.compile(loss='categorical_crossentropy', optimizer='adam')\n",
    "filepath=\"weights-improvement-{epoch:02d}-{loss:.4f}.hdf5\"\n",
    "checkpoint = ModelCheckpoint(filepath, monitor='loss', verbose=1, save_best_only=True, mode='min')\n",
    "callbacks_list = [checkpoint]"
   ]
  },
  {
   "cell_type": "code",
   "execution_count": null,
   "metadata": {},
   "outputs": [],
   "source": [
    "model.fit(X, Y, epochs=100, batch_size=50, callbacks=callbacks_list)"
   ]
  },
  {
   "cell_type": "markdown",
   "metadata": {},
   "source": [
    "### Predicting"
   ]
  },
  {
   "cell_type": "code",
   "execution_count": 20,
   "metadata": {},
   "outputs": [],
   "source": [
    "model.load_weights('weights-improvement-40-0.7285.hdf5')\n",
    "generated_text = list((open(\"seed.txt\").read()).lower())\n",
    "seed = [ch_n[i] for i in generated_text if i in ch_n]\n",
    "if len(seed)<100:\n",
    "    raise Exception('content of seed.txt needs to be longer')\n",
    "check = True\n",
    "count = 0\n",
    "seed = seed[len(seed)-100:]\n",
    "while(check):\n",
    "    count+=1\n",
    "    x = np.reshape(seed,(1,len(seed), 1))\n",
    "    x = x / float(len(char_list))\n",
    "    predict = np.argmax(model.predict(x, verbose=0))\n",
    "    generated_text.append(n_ch[predict])\n",
    "    seed.append(predict)\n",
    "    seed = seed[1:len(seed)]\n",
    "    if count>400 and n_ch[predict]=='.':\n",
    "        check = False\n",
    "    if count>500:\n",
    "        check = False\n",
    "    "
   ]
  },
  {
   "cell_type": "code",
   "execution_count": 21,
   "metadata": {},
   "outputs": [
    {
     "name": "stdout",
     "output_type": "stream",
     "text": [
      "at the edge of a forest, where a cliff overlooks an ocean, a couple tall trees were talking in the dark late one night.\n",
      "\n",
      "one said, \"may i ask you something?\"\n",
      "\n",
      "\"certainly,\" said the other.\n",
      "\n",
      "\"and i shall never play wou;\" he said.\n",
      "\n",
      "\"you wait any boyr a sand fat and a long way,\" the little one said, as the knttles and the little girl came out every morning in his pockets, the boy was suriing broke back or\n",
      "the pink. there was a dream then he saw the toow, and then the was long at the pond. overhers was all manners of them then to sleep and the carr of the tookng flowers, and put it under his hiad than anything\n",
      "wound her tat the soade, and the porries awoke and wonders of the\n",
      "children \n"
     ]
    }
   ],
   "source": [
    "story =''.join(generated_text)\n",
    "print(story)"
   ]
  },
  {
   "cell_type": "markdown",
   "metadata": {
    "collapsed": true
   },
   "source": [
    "### Sample Output"
   ]
  },
  {
   "cell_type": "markdown",
   "metadata": {},
   "source": [
    "__Seed__ : perhaps it was a dream, she thought. perhaps if she pinched herself, she would wake up. but she didnt want to wake up. she wanted to stay in this dream world where\n",
    "\n",
    "__Output__: perhaps it was a dream, she thought. perhaps if she pinched herself, she would wake up. but she didnt want to wake up. she wanted to stay in this dream world where he wasched to mnce; ald her hands they were very little, ald how dagr but the pathway, whll it be quttiig to the pinker sfat t hate, and wat very hittle, and saie to the toosti. \n",
    "\"you are a nautyce pight for it;\"\n",
    "\n",
    "\"but it is so good of them to come,\" the child answered. \"but he is very thred.\"\n",
    "\n",
    "\"it is a beautiful world,\" the boy said, as he went along the shore there was afraid. the bad girl winl hold toon at they lonked at his piches, and she will started and listened."
   ]
  },
  {
   "cell_type": "markdown",
   "metadata": {},
   "source": [
    "__Seed__: the day princess meaghan was born, frogs rained from the sky. only a few people in the castle noticed. not one of them thought it was important.\n",
    "\n",
    "__Output__: the day princess meaghan was born, frogs rained from the sky. only a few people in the castle noticed. not one of them thought it was important. they stared at him with their garcer and mesters, anyays well it would not deen to the fair, and the flowers dream\n",
    "whine he went along the street.\n",
    "the colles and the swallows and the ciildren with all the sable to be a cat, cut in the field and a long cloak, tean they seneing for the flowers, and they stayed and sobbed.\n",
    "\n",
    "\"you are a naughty boy,\" said the brother, \"but what is all the sime ifar the looning deo."
   ]
  },
  {
   "cell_type": "markdown",
   "metadata": {},
   "source": [
    "__Seed__: at the edge of a forest, where a cliff overlooks an ocean, a couple tall trees were talking in the dark late one night.\n",
    "\n",
    "one said, \"may i ask you something?\"\n",
    "\n",
    "\"certainly,\" said the other.\n",
    "\n",
    "__Output__: at the edge of a forest, where a cliff overlooks an ocean, a couple tall trees were talking in the dark late one night.\n",
    "\n",
    "one said, \"may i ask you something?\"\n",
    "\n",
    "\"certainly,\" said the other.\n",
    "\n",
    "\"and i shall never play wou;\" he said.\n",
    "\n",
    "\"you wait any boyr a sand fat and a long way,\" the little one said, as the knttles and the little girl came out every morning in his pockets, the boy was suriing broke back or\n",
    "the pink. there was a dream then he saw the toow, and then the was long at the pond. overhers was all manners of them then to sleep and the carr of the tookng flowers, and put it under his hiad than anything\n",
    "wound her tat the soade, and the porries awoke and wonders of the\n",
    "children "
   ]
  },
  {
   "cell_type": "code",
   "execution_count": null,
   "metadata": {},
   "outputs": [],
   "source": []
  }
 ],
 "metadata": {
  "kernelspec": {
   "display_name": "Python 3",
   "language": "python",
   "name": "python3"
  },
  "language_info": {
   "codemirror_mode": {
    "name": "ipython",
    "version": 3
   },
   "file_extension": ".py",
   "mimetype": "text/x-python",
   "name": "python",
   "nbconvert_exporter": "python",
   "pygments_lexer": "ipython3",
   "version": "3.7.0"
  }
 },
 "nbformat": 4,
 "nbformat_minor": 2
}
